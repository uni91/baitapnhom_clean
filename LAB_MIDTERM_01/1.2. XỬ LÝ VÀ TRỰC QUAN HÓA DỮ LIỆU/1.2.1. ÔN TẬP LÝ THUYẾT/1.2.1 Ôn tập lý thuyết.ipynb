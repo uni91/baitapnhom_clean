{
 "cells": [
  {
   "cell_type": "markdown",
   "id": "3b55b076-cce3-45d5-86ec-68874060ea80",
   "metadata": {},
   "source": [
    "## 1. Trực quan hóa dữ liệu có vai trò gì trong phân tích dữ liệu?\n",
    "Trực quan hóa dữ liệu (Data Visualization) là **quá trình biểu diễn dữ liệu dưới dạng hình ảnh, biểu đồ hoặc đồ thị** giúp người phân tích dễ dàng:\n",
    "- Nhận diện **mẫu hình, xu hướng, mối tương quan và ngoại lệ (outliers)** trong dữ liệu.  \n",
    "- **Tóm tắt thông tin phức tạp** thành hình ảnh dễ hiểu hơn so với các bảng số liệu khô khan.  \n",
    "- **Hỗ trợ ra quyết định** nhanh chóng và chính xác hơn dựa trên bằng chứng trực quan.  \n",
    "\n",
    "###  Vai trò trong EDA (Exploratory Data Analysis)\n",
    "Trong giai đoạn **khám phá dữ liệu (EDA)**, trực quan hóa là công cụ cốt lõi giúp:\n",
    "- Kiểm tra **phân phối dữ liệu** (ví dụ: histogram, boxplot).  \n",
    "- Phát hiện **mối quan hệ giữa các biến** (ví dụ: scatter plot).  \n",
    "- Phát hiện **giá trị thiếu, ngoại lệ, hoặc dữ liệu sai lệch**.  \n",
    "- Xác định **biến quan trọng** để lựa chọn mô hình phân tích hoặc dự đoán.  \n"
   ]
  },
  {
   "cell_type": "markdown",
   "id": "26c408a7-c330-46a0-80f1-11d7c0831d77",
   "metadata": {},
   "source": [
    "## 2. Các loại biểu đồ phổ biến và trường hợp sử dụng\n",
    "\n",
    "| Loại biểu đồ | Mô tả | Khi nào sử dụng |\n",
    "|---------------|--------|----------------|\n",
    "| **Histogram** | Biểu diễn tần suất xuất hiện của giá trị trong biến số liên tục | Phân tích **phân phối dữ liệu số** (tuổi, thu nhập, điểm số, …) |\n",
    "| **Scatter Plot** | Biểu đồ điểm thể hiện mối quan hệ giữa hai biến | Phân tích **mối tương quan** giữa các biến số (ví dụ: doanh thu và chi phí) |\n",
    "| **Boxplot** | Thể hiện phân bố dữ liệu, trung vị và ngoại lệ | So sánh **phân phối** giữa các nhóm hoặc phát hiện **outliers** |\n",
    "| **Bar Chart** | Hiển thị giá trị của các danh mục bằng cột | So sánh **tần suất hoặc giá trị trung bình** giữa các nhóm phân loại |\n",
    "| **Line Chart** | Nối các điểm dữ liệu theo thứ tự thời gian | Phân tích **xu hướng theo thời gian** (ví dụ: doanh thu theo tháng) |\n",
    "| **Pie Chart** | Biểu diễn tỷ lệ phần trăm của các thành phần | Thể hiện **cơ cấu thành phần** của một biến danh mục (chỉ nên dùng ≤5 nhóm) |\n"
   ]
  },
  {
   "cell_type": "markdown",
   "id": "6e29cf7f-198e-4218-a79c-67b99163bfc2",
   "metadata": {},
   "source": [
    "## 3. Cách chọn loại biểu đồ phù hợp\n",
    "\n",
    "| Loại dữ liệu | Mục tiêu phân tích | Loại biểu đồ phù hợp |\n",
    "|---------------|--------------------|----------------------|\n",
    "| **Dữ liệu số (numeric)** | Kiểm tra phân phối | Histogram, Boxplot |\n",
    "| | So sánh 2 biến số | Scatter Plot |\n",
    "| **Dữ liệu phân loại (categorical)** | So sánh tần suất giữa các nhóm | Bar Chart |\n",
    "| | Thể hiện tỷ lệ | Pie Chart |\n",
    "| **Dữ liệu thời gian (time series)** | Phân tích xu hướng theo thời gian | Line Chart, Area Chart |\n",
    "| **Dữ liệu đa chiều** | Kết hợp nhiều biến | Pair Plot, Heatmap |\n",
    "\n",
    "*Nguyên tắc:*  Chọn biểu đồ sao cho **truyền tải thông tin chính yếu nhất với ít yếu tố rườm rà nhất**."
   ]
  },
  {
   "cell_type": "markdown",
   "id": "45837933-1340-4f49-b621-614f17936a7a",
   "metadata": {},
   "source": [
    "## 4. So sánh các thư viện trực quan hóa trong Python\n",
    "\n",
    "| Thư viện | Đặc điểm chính | Ưu điểm | Hạn chế |\n",
    "|-----------|----------------|----------|----------|\n",
    "| **Matplotlib** | Thư viện nền tảng, kiểm soát chi tiết từng thành phần của biểu đồ | Linh hoạt, mạnh mẽ, dễ tùy biến | Cú pháp dài, khó viết đẹp nhanh |\n",
    "| **Seaborn** | Xây dựng trên Matplotlib, cú pháp thân thiện hơn | Dễ dùng, có nhiều mẫu biểu đồ thống kê đẹp | Khó tùy chỉnh sâu so với Matplotlib |\n",
    "| **Plotly** | Thư viện tương tác (interactive) | Biểu đồ động, zoom, hover được | Cài đặt nặng, không phù hợp cho report tĩnh |\n"
   ]
  },
  {
   "cell_type": "markdown",
   "id": "9a2de1b9-11c6-4fc0-ae74-cafe6781ec84",
   "metadata": {},
   "source": [
    "## 5. Nguyên tắc thiết kế biểu đồ hiệu quả\n",
    "\n",
    "1. **Đơn giản và rõ ràng:** Chỉ hiển thị thông tin cần thiết, tránh hiệu ứng màu mè.  \n",
    "2. **Sử dụng màu sắc có chủ đích:**  \n",
    "   - Màu nổi bật cho dữ liệu quan trọng.  \n",
    "   - Màu trung tính cho dữ liệu nền.  \n",
    "3. **Gắn nhãn và tiêu đề rõ ràng:** Ghi rõ tên trục, đơn vị đo, chú thích (legend).  \n",
    "4. **Giữ tỉ lệ trục phù hợp:** Tránh làm sai lệch nhận thức thị giác.  \n",
    "5. **Nhất quán trong phong cách:** Dùng cùng một bảng màu, font chữ, định dạng giữa các biểu đồ.  \n",
    "6. **Thêm chú thích (annotation) nếu cần:** Làm nổi bật insight hoặc điểm bất thường."
   ]
  },
  {
   "cell_type": "markdown",
   "id": "fc3be2f7-247c-4b17-91c6-9aa5fe138686",
   "metadata": {},
   "source": [
    "## 6. Nguyên tắc xây dựng và sử dụng biểu đồ trong Matplotlib\n",
    "\n",
    "1. **Chọn loại biểu đồ phù hợp:**  \n",
    "   Lựa chọn kiểu biểu đồ (histogram, bar chart, line chart, pie chart, scatter plot…) tùy theo đặc điểm dữ liệu và mục tiêu trực quan hóa.  \n",
    "   - **Histogram:** biểu diễn phân bố tần suất của dữ liệu liên tục.  \n",
    "   - **Bar chart:** so sánh giá trị giữa các nhóm hoặc danh mục.  \n",
    "\n",
    "2. **Chuẩn bị dữ liệu sạch và chính xác:**  \n",
    "   - Dữ liệu cần được xử lý trước (loại bỏ giá trị thiếu, trùng lặp hoặc ngoại lai) để biểu đồ phản ánh đúng thực tế.  \n",
    "\n",
    "3. **Đặt tiêu đề và nhãn trục đầy đủ:**  \n",
    "   - Biểu đồ cần có tiêu đề (title), tên trục X và Y rõ ràng (xlabel, ylabel) để người xem dễ hiểu nội dung thể hiện.  \n",
    "\n",
    "4. **Tùy chỉnh giao diện hợp lý:**  \n",
    "   - Có thể thay đổi màu sắc, kích thước (figsize), đường viền hoặc kiểu hiển thị (style) để tăng tính trực quan nhưng vẫn đảm bảo tính khoa học.  \n",
    "\n",
    "5. **Thêm chú thích và giá trị quan trọng:**  \n",
    "   - Sử dụng *legend*, *annotation* hoặc đường tham chiếu (*axhline*, *axvline*) để làm nổi bật xu hướng, điểm bất thường hoặc ngưỡng quan trọng.  \n",
    "\n",
    "6. **Kiểm tra tỉ lệ và phạm vi trục:**  \n",
    "   - Đảm bảo trục tọa độ được thiết lập đúng (không cắt bỏ dữ liệu hoặc kéo giãn tỷ lệ), giúp người xem không bị hiểu sai ý nghĩa dữ liệu.  \n",
    "\n",
    "7. **Giữ bố cục gọn gàng và dễ đọc:**  \n",
    "   - Tránh quá nhiều chữ, màu hoặc hiệu ứng; ưu tiên thiết kế tối giản để người xem tập trung vào thông tin chính của biểu đồ.  \n"
   ]
  },
  {
   "cell_type": "markdown",
   "id": "4f04ea35-e05f-400c-80d9-e2043df6ec9d",
   "metadata": {},
   "source": [
    "## 7. Xuất biểu đồ từ Python ra các định dạng phổ biến (PNG, PDF, HTML)\n",
    "\n",
    "1.  **Lưu biểu đồ dưới dạng hình ảnh (PNG, JPG, PDF):**  \n",
    "   Sử dụng lệnh `plt.savefig()` trong thư viện **Matplotlib** để lưu biểu đồ sau khi vẽ.  \n",
    "   - Cú pháp:  \n",
    "     ```python\n",
    "     plt.savefig(\"ten_bieu_do.png\")   # Lưu thành file ảnh PNG\n",
    "     plt.savefig(\"ten_bieu_do.pdf\")   # Lưu thành file PDF\n",
    "     ```\n",
    "   - Có thể tùy chỉnh chất lượng ảnh:  \n",
    "     ```python\n",
    "     plt.savefig(\"bieu_do.png\", dpi=300, bbox_inches='tight')\n",
    "     ```\n",
    "     Trong đó:\n",
    "     - `dpi=300`: tăng độ phân giải ảnh.\n",
    "     - `bbox_inches='tight'`: cắt gọn phần viền thừa của biểu đồ.\n",
    "\n",
    "2. **Xuất biểu đồ sang HTML (tương tác được):**  \n",
    "   - Với **Plotly** hoặc **Bokeh**, có thể lưu biểu đồ ở định dạng HTML tương tác:  \n",
    "     ```python\n",
    "     fig.write_html(\"bieu_do.html\")\n",
    "     ```\n",
    "     Khi mở file `.html`, người xem có thể phóng to, rê chuột xem giá trị, hoặc thay đổi góc nhìn.\n",
    "\n",
    "3. **Kết hợp biểu đồ vào báo cáo:**  \n",
    "   - Có thể chèn trực tiếp file PNG hoặc PDF vào **Word**, **PowerPoint**, hoặc **LaTeX**.  \n",
    "   - Khi tạo báo cáo tự động (bằng Python), dùng thư viện như **Matplotlib**, **ReportLab** hoặc **Plotly** để xuất đồng thời cả biểu đồ và nội dung văn bản.\n",
    "\n",
    "4. **Lưu ý khi xuất biểu đồ:**  \n",
    "   - Nên đặt tên file có ý nghĩa (ví dụ: `hist_income.png`, `sales_trend.pdf`).  \n",
    "   - Đảm bảo định dạng ảnh phù hợp với yêu cầu của báo cáo (PNG cho hình ảnh, PDF cho in ấn, HTML cho trình chiếu trực tuyến).  \n"
   ]
  },
  {
   "cell_type": "markdown",
   "id": "473c330b-0f4d-4729-ba1e-8bb8b9c80268",
   "metadata": {},
   "source": [
    "# KẾT THÚC"
   ]
  },
  {
   "cell_type": "code",
   "execution_count": null,
   "id": "f54fa19c-1bb5-4e62-ab80-9f5a18fd8ed4",
   "metadata": {},
   "outputs": [],
   "source": []
  }
 ],
 "metadata": {
  "kernelspec": {
   "display_name": "Python 3 (ipykernel)",
   "language": "python",
   "name": "python3"
  },
  "language_info": {
   "codemirror_mode": {
    "name": "ipython",
    "version": 3
   },
   "file_extension": ".py",
   "mimetype": "text/x-python",
   "name": "python",
   "nbconvert_exporter": "python",
   "pygments_lexer": "ipython3",
   "version": "3.12.1"
  }
 },
 "nbformat": 4,
 "nbformat_minor": 5
}
