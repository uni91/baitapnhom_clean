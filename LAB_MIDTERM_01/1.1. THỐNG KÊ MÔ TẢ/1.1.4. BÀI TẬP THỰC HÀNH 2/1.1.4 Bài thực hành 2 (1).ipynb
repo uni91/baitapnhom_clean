{
 "cells": [
  {
   "cell_type": "markdown",
   "id": "6e0acd6c-a069-4add-892c-621643683d8f",
   "metadata": {},
   "source": [
    "# 1. Import thư viện và nạp dữ liệu vào notebook"
   ]
  },
  {
   "cell_type": "code",
   "execution_count": 2,
   "id": "c3b828b0-0333-4c85-9dfd-bdf3dea0f42c",
   "metadata": {},
   "outputs": [
    {
     "data": {
      "text/html": [
       "<div>\n",
       "<style scoped>\n",
       "    .dataframe tbody tr th:only-of-type {\n",
       "        vertical-align: middle;\n",
       "    }\n",
       "\n",
       "    .dataframe tbody tr th {\n",
       "        vertical-align: top;\n",
       "    }\n",
       "\n",
       "    .dataframe thead th {\n",
       "        text-align: right;\n",
       "    }\n",
       "</style>\n",
       "<table border=\"1\" class=\"dataframe\">\n",
       "  <thead>\n",
       "    <tr style=\"text-align: right;\">\n",
       "      <th></th>\n",
       "      <th>Pregnancies</th>\n",
       "      <th>Glucose</th>\n",
       "      <th>BloodPressure</th>\n",
       "      <th>SkinThickness</th>\n",
       "      <th>Insulin</th>\n",
       "      <th>BMI</th>\n",
       "      <th>DiabetesPedigreeFunction</th>\n",
       "      <th>Age</th>\n",
       "      <th>Outcome</th>\n",
       "    </tr>\n",
       "  </thead>\n",
       "  <tbody>\n",
       "    <tr>\n",
       "      <th>0</th>\n",
       "      <td>6</td>\n",
       "      <td>148</td>\n",
       "      <td>72</td>\n",
       "      <td>35</td>\n",
       "      <td>0</td>\n",
       "      <td>33.6</td>\n",
       "      <td>0.627</td>\n",
       "      <td>50</td>\n",
       "      <td>1</td>\n",
       "    </tr>\n",
       "    <tr>\n",
       "      <th>1</th>\n",
       "      <td>1</td>\n",
       "      <td>85</td>\n",
       "      <td>66</td>\n",
       "      <td>29</td>\n",
       "      <td>0</td>\n",
       "      <td>26.6</td>\n",
       "      <td>0.351</td>\n",
       "      <td>31</td>\n",
       "      <td>0</td>\n",
       "    </tr>\n",
       "    <tr>\n",
       "      <th>2</th>\n",
       "      <td>8</td>\n",
       "      <td>183</td>\n",
       "      <td>64</td>\n",
       "      <td>0</td>\n",
       "      <td>0</td>\n",
       "      <td>23.3</td>\n",
       "      <td>0.672</td>\n",
       "      <td>32</td>\n",
       "      <td>1</td>\n",
       "    </tr>\n",
       "    <tr>\n",
       "      <th>3</th>\n",
       "      <td>1</td>\n",
       "      <td>89</td>\n",
       "      <td>66</td>\n",
       "      <td>23</td>\n",
       "      <td>94</td>\n",
       "      <td>28.1</td>\n",
       "      <td>0.167</td>\n",
       "      <td>21</td>\n",
       "      <td>0</td>\n",
       "    </tr>\n",
       "    <tr>\n",
       "      <th>4</th>\n",
       "      <td>0</td>\n",
       "      <td>137</td>\n",
       "      <td>40</td>\n",
       "      <td>35</td>\n",
       "      <td>168</td>\n",
       "      <td>43.1</td>\n",
       "      <td>2.288</td>\n",
       "      <td>33</td>\n",
       "      <td>1</td>\n",
       "    </tr>\n",
       "  </tbody>\n",
       "</table>\n",
       "</div>"
      ],
      "text/plain": [
       "   Pregnancies  Glucose  BloodPressure  SkinThickness  Insulin   BMI  \\\n",
       "0            6      148             72             35        0  33.6   \n",
       "1            1       85             66             29        0  26.6   \n",
       "2            8      183             64              0        0  23.3   \n",
       "3            1       89             66             23       94  28.1   \n",
       "4            0      137             40             35      168  43.1   \n",
       "\n",
       "   DiabetesPedigreeFunction  Age  Outcome  \n",
       "0                     0.627   50        1  \n",
       "1                     0.351   31        0  \n",
       "2                     0.672   32        1  \n",
       "3                     0.167   21        0  \n",
       "4                     2.288   33        1  "
      ]
     },
     "execution_count": 2,
     "metadata": {},
     "output_type": "execute_result"
    }
   ],
   "source": [
    "\n",
    "import pandas as pd\n",
    "\n",
    "# Đọc dữ liệu từ file diabetes.csv\n",
    "diabetes_data = pd.read_csv(\"diabetes.csv\")\n",
    "\n",
    "# Chọn các cột quan trọng trong bộ dữ liệu\n",
    "diabetes_data = diabetes_data[['Pregnancies', 'Glucose', 'BloodPressure',\n",
    "                               'SkinThickness', 'Insulin', 'BMI',\n",
    "                               'DiabetesPedigreeFunction', 'Age', 'Outcome']]\n",
    "\n",
    "# Xem 5 dòng đầu tiên\n",
    "diabetes_data.head()\n",
    "\n"
   ]
  },
  {
   "cell_type": "markdown",
   "id": "bed215c5-3dfa-46ff-94ff-26bcce09fdee",
   "metadata": {},
   "source": [
    "# 2. Loại bỏ dữ liệu trùng lặp"
   ]
  },
  {
   "cell_type": "code",
   "execution_count": 3,
   "id": "d14035db-b156-48b7-941c-e6bd410b4d4e",
   "metadata": {},
   "outputs": [
    {
     "name": "stdout",
     "output_type": "stream",
     "text": [
      "   Pregnancies  Glucose  BloodPressure  SkinThickness  Insulin   BMI  \\\n",
      "0            6      148             72             35        0  33.6   \n",
      "1            1       85             66             29        0  26.6   \n",
      "2            8      183             64              0        0  23.3   \n",
      "3            1       89             66             23       94  28.1   \n",
      "4            0      137             40             35      168  43.1   \n",
      "\n",
      "   DiabetesPedigreeFunction  Age  Outcome  \n",
      "0                     0.627   50        1  \n",
      "1                     0.351   31        0  \n",
      "2                     0.672   32        1  \n",
      "3                     0.167   21        0  \n",
      "4                     2.288   33        1  \n",
      "   Pregnancies  Glucose  BloodPressure  SkinThickness   BMI  \\\n",
      "0            6      148             72             35  33.6   \n",
      "2            8      183             64              0  23.3   \n",
      "3            1       89             66             23  28.1   \n",
      "4            0      137             40             35  43.1   \n",
      "5            5      116             74              0  25.6   \n",
      "\n",
      "   DiabetesPedigreeFunction  Age  Outcome  \n",
      "0                     0.627   50        1  \n",
      "2                     0.672   32        1  \n",
      "3                     0.167   21        0  \n",
      "4                     2.288   33        1  \n",
      "5                     0.201   30        0  \n"
     ]
    }
   ],
   "source": [
    "import pandas as pd\n",
    "\n",
    "# Đọc dữ liệu\n",
    "marketing_data = pd.read_csv(\"diabetes.csv\")\n",
    "\n",
    "# Xem 5 dòng đầu tiên\n",
    "print(marketing_data.head())\n",
    "\n",
    "# Xoá các dòng trùng nhau (nếu có)\n",
    "marketing_data_duplicate = marketing_data.drop_duplicates()\n",
    "\n",
    "# Xoá hàng có chỉ số (index) là 1\n",
    "marketing_data = marketing_data.drop(labels=[1], axis=0)\n",
    "\n",
    "# Xoá một cột — ở đây ta chọn ví dụ là 'Insulin' (vì 'Year_Birth' không tồn tại)\n",
    "marketing_data = marketing_data.drop(labels=['Insulin'], axis=1)\n",
    "\n",
    "# Hiển thị kết quả sau khi xoá\n",
    "print(marketing_data.head())\n"
   ]
  },
  {
   "cell_type": "markdown",
   "id": "5ed1659b-3354-4f70-afb7-e4d5bd0313c7",
   "metadata": {},
   "source": [
    "# 3. Thay thế dữ liệu và thay đổi định dạng của dữ liệu\n"
   ]
  },
  {
   "cell_type": "code",
   "execution_count": 4,
   "id": "150a2f73-c549-4eb9-9df0-ebebfd223349",
   "metadata": {},
   "outputs": [
    {
     "name": "stdout",
     "output_type": "stream",
     "text": [
      "   Pregnancies  Glucose  BloodPressure  SkinThickness  Insulin   BMI  \\\n",
      "0            6      148             72             35        0  33.6   \n",
      "1            1       85             66             29        0  26.6   \n",
      "2            8      183             64              0        0  23.3   \n",
      "3            1       89             66             23       94  28.1   \n",
      "4            0      137             40             35      168  43.1   \n",
      "\n",
      "   DiabetesPedigreeFunction  Age  Outcome Outcome_replaced  Insulin_changed  \n",
      "0                     0.627   50        1     Has diabetes                0  \n",
      "1                     0.351   31        0      No diabetes                0  \n",
      "2                     0.672   32        1     Has diabetes                0  \n",
      "3                     0.167   21        0      No diabetes               94  \n",
      "4                     2.288   33        1     Has diabetes              168  \n"
     ]
    }
   ],
   "source": [
    "import pandas as pd\n",
    "\n",
    "marketing_data = pd.read_csv(\"diabetes.csv\")\n",
    "\n",
    "# Thay giá trị trong cột Outcome:\n",
    "# 0 -> 'No diabetes', 1 -> 'Has diabetes'\n",
    "marketing_data['Outcome_replaced'] = marketing_data['Outcome'].replace([0, 1], ['No diabetes', 'Has diabetes'])\n",
    "\n",
    "# Điền giá trị thiếu (NaN) trong cột Insulin = 0\n",
    "marketing_data['Insulin'] = marketing_data['Insulin'].fillna(0)\n",
    "\n",
    "# Đổi kiểu dữ liệu của cột Insulin từ float sang int\n",
    "marketing_data['Insulin_changed'] = marketing_data['Insulin'].astype(int)\n",
    "\n",
    "# Xem kết quả\n",
    "print(marketing_data.head())\n"
   ]
  },
  {
   "cell_type": "markdown",
   "id": "da1e8085-acba-419c-b4d6-328dc0904aa4",
   "metadata": {},
   "source": [
    "# 4. Xử lý dữ liệu thiếu"
   ]
  },
  {
   "cell_type": "code",
   "execution_count": 6,
   "id": "4bd4b23d-4507-482a-84ff-d410d4390ae1",
   "metadata": {},
   "outputs": [
    {
     "name": "stdout",
     "output_type": "stream",
     "text": [
      "🔹 Số lượng giá trị bị thiếu trong mỗi cột:\n",
      "Pregnancies                 0\n",
      "Glucose                     0\n",
      "BloodPressure               0\n",
      "SkinThickness               0\n",
      "Insulin                     0\n",
      "BMI                         0\n",
      "DiabetesPedigreeFunction    0\n",
      "Age                         0\n",
      "Outcome                     0\n",
      "dtype: int64\n",
      "\n",
      " Kích thước dữ liệu ban đầu: (768, 9)\n",
      " Kích thước sau khi xóa giá trị thiếu: (768, 9)\n"
     ]
    }
   ],
   "source": [
    "import pandas as pd\n",
    "\n",
    "# Đọc dữ liệu\n",
    "marketing_data = pd.read_csv(\"diabetes.csv\")\n",
    "\n",
    "# Kiểm tra giá trị bị thiếu trong từng cột\n",
    "print(\"🔹 Số lượng giá trị bị thiếu trong mỗi cột:\")\n",
    "print(marketing_data.isnull().sum())\n",
    "\n",
    "# Loại bỏ các dòng có ít nhất 1 giá trị bị thiếu\n",
    "marketing_data_withoutna = marketing_data.dropna(how='any')\n",
    "\n",
    "# Kiểm tra kích thước trước và sau khi xóa\n",
    "print(\"\\n Kích thước dữ liệu ban đầu:\", marketing_data.shape)\n",
    "print(\" Kích thước sau khi xóa giá trị thiếu:\", marketing_data_withoutna.shape)\n"
   ]
  },
  {
   "cell_type": "markdown",
   "id": "74057fe9-2b34-4dc4-81ba-f0306317b1fd",
   "metadata": {},
   "source": [
    "# KẾT THÚC"
   ]
  },
  {
   "cell_type": "code",
   "execution_count": null,
   "id": "3b6bbae6-ff6a-4c5a-98f5-7c806bb3069a",
   "metadata": {},
   "outputs": [],
   "source": []
  }
 ],
 "metadata": {
  "kernelspec": {
   "display_name": "Python 3 (ipykernel)",
   "language": "python",
   "name": "python3"
  },
  "language_info": {
   "codemirror_mode": {
    "name": "ipython",
    "version": 3
   },
   "file_extension": ".py",
   "mimetype": "text/x-python",
   "name": "python",
   "nbconvert_exporter": "python",
   "pygments_lexer": "ipython3",
   "version": "3.12.1"
  }
 },
 "nbformat": 4,
 "nbformat_minor": 5
}
