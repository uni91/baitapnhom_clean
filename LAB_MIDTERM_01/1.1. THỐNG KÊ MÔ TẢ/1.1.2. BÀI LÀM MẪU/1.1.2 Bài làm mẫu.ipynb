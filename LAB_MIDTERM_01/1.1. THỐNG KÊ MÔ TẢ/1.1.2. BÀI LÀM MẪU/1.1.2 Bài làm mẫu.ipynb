{
 "cells": [
  {
   "cell_type": "markdown",
   "id": "f4236db5-4a74-4701-9eaf-73a6a9e24fba",
   "metadata": {},
   "source": [
    "# Nhiệm vụ 2: Khám phá và xử lý dữ liệu Marketing Campaign"
   ]
  },
  {
   "cell_type": "markdown",
   "id": "8545eebf-3ba9-4f2c-8031-f92f6687fc58",
   "metadata": {},
   "source": [
    "# 1. Import thư viện và nạp dữ liệu vào notebook\n"
   ]
  },
  {
   "cell_type": "code",
   "execution_count": 6,
   "id": "a050aa4d-20e9-4232-851b-66ae52456d6e",
   "metadata": {},
   "outputs": [
    {
     "name": "stdout",
     "output_type": "stream",
     "text": [
      "5 dòng đầu tiên của dữ liệu:\n"
     ]
    },
    {
     "data": {
      "text/html": [
       "<div>\n",
       "<style scoped>\n",
       "    .dataframe tbody tr th:only-of-type {\n",
       "        vertical-align: middle;\n",
       "    }\n",
       "\n",
       "    .dataframe tbody tr th {\n",
       "        vertical-align: top;\n",
       "    }\n",
       "\n",
       "    .dataframe thead th {\n",
       "        text-align: right;\n",
       "    }\n",
       "</style>\n",
       "<table border=\"1\" class=\"dataframe\">\n",
       "  <thead>\n",
       "    <tr style=\"text-align: right;\">\n",
       "      <th></th>\n",
       "      <th>ID\\tYear_Birth\\tEducation\\tMarital_Status\\tIncome\\tKidhome\\tTeenhome\\tDt_Customer\\tRecency\\tMntWines\\tMntFruits\\tMntMeatProducts\\tMntFishProducts\\tMntSweetProducts\\tMntGoldProds\\tNumDealsPurchases\\tNumWebPurchases\\tNumCatalogPurchases\\tNumStorePurchases\\tNumWebVisitsMonth\\tAcceptedCmp3\\tAcceptedCmp4\\tAcceptedCmp5\\tAcceptedCmp1\\tAcceptedCmp2\\tComplain\\tZ_CostContact\\tZ_Revenue\\tResponse</th>\n",
       "    </tr>\n",
       "  </thead>\n",
       "  <tbody>\n",
       "    <tr>\n",
       "      <th>0</th>\n",
       "      <td>5524\\t1957\\tGraduation\\tSingle\\t58138\\t0\\t0\\t0...</td>\n",
       "    </tr>\n",
       "    <tr>\n",
       "      <th>1</th>\n",
       "      <td>2174\\t1954\\tGraduation\\tSingle\\t46344\\t1\\t1\\t0...</td>\n",
       "    </tr>\n",
       "    <tr>\n",
       "      <th>2</th>\n",
       "      <td>4141\\t1965\\tGraduation\\tTogether\\t71613\\t0\\t0\\...</td>\n",
       "    </tr>\n",
       "    <tr>\n",
       "      <th>3</th>\n",
       "      <td>6182\\t1984\\tGraduation\\tTogether\\t26646\\t1\\t0\\...</td>\n",
       "    </tr>\n",
       "    <tr>\n",
       "      <th>4</th>\n",
       "      <td>5324\\t1981\\tPhD\\tMarried\\t58293\\t1\\t0\\t19-01-2...</td>\n",
       "    </tr>\n",
       "  </tbody>\n",
       "</table>\n",
       "</div>"
      ],
      "text/plain": [
       "  ID\\tYear_Birth\\tEducation\\tMarital_Status\\tIncome\\tKidhome\\tTeenhome\\tDt_Customer\\tRecency\\tMntWines\\tMntFruits\\tMntMeatProducts\\tMntFishProducts\\tMntSweetProducts\\tMntGoldProds\\tNumDealsPurchases\\tNumWebPurchases\\tNumCatalogPurchases\\tNumStorePurchases\\tNumWebVisitsMonth\\tAcceptedCmp3\\tAcceptedCmp4\\tAcceptedCmp5\\tAcceptedCmp1\\tAcceptedCmp2\\tComplain\\tZ_CostContact\\tZ_Revenue\\tResponse\n",
       "0  5524\\t1957\\tGraduation\\tSingle\\t58138\\t0\\t0\\t0...                                                                                                                                                                                                                                                                                                                                                  \n",
       "1  2174\\t1954\\tGraduation\\tSingle\\t46344\\t1\\t1\\t0...                                                                                                                                                                                                                                                                                                                                                  \n",
       "2  4141\\t1965\\tGraduation\\tTogether\\t71613\\t0\\t0\\...                                                                                                                                                                                                                                                                                                                                                  \n",
       "3  6182\\t1984\\tGraduation\\tTogether\\t26646\\t1\\t0\\...                                                                                                                                                                                                                                                                                                                                                  \n",
       "4  5324\\t1981\\tPhD\\tMarried\\t58293\\t1\\t0\\t19-01-2...                                                                                                                                                                                                                                                                                                                                                  "
      ]
     },
     "metadata": {},
     "output_type": "display_data"
    },
    {
     "name": "stdout",
     "output_type": "stream",
     "text": [
      "\n",
      "Thông tin dữ liệu:\n",
      "<class 'pandas.core.frame.DataFrame'>\n",
      "RangeIndex: 2240 entries, 0 to 2239\n",
      "Data columns (total 1 columns):\n",
      " #   Column                                                                                                                                                                                                                                                                                                                                                                    Non-Null Count  Dtype \n",
      "---  ------                                                                                                                                                                                                                                                                                                                                                                    --------------  ----- \n",
      " 0   ID\tYear_Birth\tEducation\tMarital_Status\tIncome\tKidhome\tTeenhome\tDt_Customer\tRecency\tMntWines\tMntFruits\tMntMeatProducts\tMntFishProducts\tMntSweetProducts\tMntGoldProds\tNumDealsPurchases\tNumWebPurchases\tNumCatalogPurchases\tNumStorePurchases\tNumWebVisitsMonth\tAcceptedCmp3\tAcceptedCmp4\tAcceptedCmp5\tAcceptedCmp1\tAcceptedCmp2\tComplain\tZ_CostContact\tZ_Revenue\tResponse  2240 non-null   object\n",
      "dtypes: object(1)\n",
      "memory usage: 17.6+ KB\n",
      "\n",
      "Tên các cột trong dataset là:\n",
      "['ID\\tYear_Birth\\tEducation\\tMarital_Status\\tIncome\\tKidhome\\tTeenhome\\tDt_Customer\\tRecency\\tMntWines\\tMntFruits\\tMntMeatProducts\\tMntFishProducts\\tMntSweetProducts\\tMntGoldProds\\tNumDealsPurchases\\tNumWebPurchases\\tNumCatalogPurchases\\tNumStorePurchases\\tNumWebVisitsMonth\\tAcceptedCmp3\\tAcceptedCmp4\\tAcceptedCmp5\\tAcceptedCmp1\\tAcceptedCmp2\\tComplain\\tZ_CostContact\\tZ_Revenue\\tResponse']\n"
     ]
    }
   ],
   "source": [
    "# NHIỆM VỤ 2: KHÁM PHÁ VÀ XỬ LÝ DỮ LIỆU MARKETING CAMPAIGN\n",
    "\n",
    "# Bước 1: Import thư viện\n",
    "import pandas as pd\n",
    "import numpy as np\n",
    "\n",
    "# Bước 2: Đọc file CSV\n",
    "# Đảm bảo file \"marketing_campaign.csv\" nằm cùng thư mục notebook\n",
    "marketing_data = pd.read_csv(\"marketing_campaign.csv\")\n",
    "# Bước 3: Xem thông tin tổng quan\n",
    "print(\"5 dòng đầu tiên của dữ liệu:\")\n",
    "display(marketing_data.head())\n",
    "\n",
    "print(\"\\nThông tin dữ liệu:\")\n",
    "marketing_data.info()\n",
    "\n",
    "print(\"\\nTên các cột trong dataset là:\")\n",
    "print(marketing_data.columns.tolist())\n",
    "\n"
   ]
  },
  {
   "cell_type": "markdown",
   "id": "fa181194-1862-4bca-b5da-821a946d8e99",
   "metadata": {},
   "source": [
    "# 2. LOẠI BỎ DỮ LIỆU TRÙNG LẶP"
   ]
  },
  {
   "cell_type": "code",
   "execution_count": 10,
   "id": "7feb3634-3a73-4608-945e-3720c606d56c",
   "metadata": {},
   "outputs": [
    {
     "name": "stdout",
     "output_type": "stream",
     "text": [
      "  ID\\tYear_Birth\\tEducation\\tMarital_Status\\tIncome\\tKidhome\\tTeenhome\\tDt_Customer\\tRecency\\tMntWines\\tMntFruits\\tMntMeatProducts\\tMntFishProducts\\tMntSweetProducts\\tMntGoldProds\\tNumDealsPurchases\\tNumWebPurchases\\tNumCatalogPurchases\\tNumStorePurchases\\tNumWebVisitsMonth\\tAcceptedCmp3\\tAcceptedCmp4\\tAcceptedCmp5\\tAcceptedCmp1\\tAcceptedCmp2\\tComplain\\tZ_CostContact\\tZ_Revenue\\tResponse\n",
      "0  5524\\t1957\\tGraduation\\tSingle\\t58138\\t0\\t0\\t0...                                                                                                                                                                                                                                                                                                                                                  \n",
      "1  2174\\t1954\\tGraduation\\tSingle\\t46344\\t1\\t1\\t0...                                                                                                                                                                                                                                                                                                                                                  \n",
      "2  4141\\t1965\\tGraduation\\tTogether\\t71613\\t0\\t0\\...                                                                                                                                                                                                                                                                                                                                                  \n",
      "3  6182\\t1984\\tGraduation\\tTogether\\t26646\\t1\\t0\\...                                                                                                                                                                                                                                                                                                                                                  \n",
      "4  5324\\t1981\\tPhD\\tMarried\\t58293\\t1\\t0\\t19-01-2...                                                                                                                                                                                                                                                                                                                                                  \n",
      "Da loai bo cac dong trung lap. So dong con lai: 2240\n",
      "Da xoa dong co index = 1.\n",
      "Cot 'Year_Birth' khong ton tai, bo qua buoc nay.\n",
      "\n",
      "Du lieu sau khi lam sach:\n",
      "  ID\\tYear_Birth\\tEducation\\tMarital_Status\\tIncome\\tKidhome\\tTeenhome\\tDt_Customer\\tRecency\\tMntWines\\tMntFruits\\tMntMeatProducts\\tMntFishProducts\\tMntSweetProducts\\tMntGoldProds\\tNumDealsPurchases\\tNumWebPurchases\\tNumCatalogPurchases\\tNumStorePurchases\\tNumWebVisitsMonth\\tAcceptedCmp3\\tAcceptedCmp4\\tAcceptedCmp5\\tAcceptedCmp1\\tAcceptedCmp2\\tComplain\\tZ_CostContact\\tZ_Revenue\\tResponse\n",
      "0  5524\\t1957\\tGraduation\\tSingle\\t58138\\t0\\t0\\t0...                                                                                                                                                                                                                                                                                                                                                  \n",
      "2  4141\\t1965\\tGraduation\\tTogether\\t71613\\t0\\t0\\...                                                                                                                                                                                                                                                                                                                                                  \n",
      "3  6182\\t1984\\tGraduation\\tTogether\\t26646\\t1\\t0\\...                                                                                                                                                                                                                                                                                                                                                  \n",
      "4  5324\\t1981\\tPhD\\tMarried\\t58293\\t1\\t0\\t19-01-2...                                                                                                                                                                                                                                                                                                                                                  \n",
      "5  7446\\t1967\\tMaster\\tTogether\\t62513\\t0\\t1\\t09-...                                                                                                                                                                                                                                                                                                                                                  \n",
      "\n",
      "Cac cot con lai trong dataset:\n",
      "['ID\\tYear_Birth\\tEducation\\tMarital_Status\\tIncome\\tKidhome\\tTeenhome\\tDt_Customer\\tRecency\\tMntWines\\tMntFruits\\tMntMeatProducts\\tMntFishProducts\\tMntSweetProducts\\tMntGoldProds\\tNumDealsPurchases\\tNumWebPurchases\\tNumCatalogPurchases\\tNumStorePurchases\\tNumWebVisitsMonth\\tAcceptedCmp3\\tAcceptedCmp4\\tAcceptedCmp5\\tAcceptedCmp1\\tAcceptedCmp2\\tComplain\\tZ_CostContact\\tZ_Revenue\\tResponse']\n"
     ]
    }
   ],
   "source": [
    "# Xem 5 dòng đầu tiên của dữ liệu\n",
    "print(marketing_data.head())\n",
    "\n",
    "# 1. Loại bỏ các dòng trùng lặp\n",
    "marketing_data = marketing_data.drop_duplicates()\n",
    "print(\"Da loai bo cac dong trung lap. So dong con lai:\", len(marketing_data))\n",
    "\n",
    "# 2. Xoa mot dong cu the theo chi so (vi du: dong co index = 1)\n",
    "if 1 in marketing_data.index:\n",
    "    marketing_data = marketing_data.drop(labels=[1], axis=0)\n",
    "    print(\"Da xoa dong co index = 1.\")\n",
    "else:\n",
    "    print(\"Khong co dong nao co index = 1, bo qua buoc nay.\")\n",
    "\n",
    "# 3. Xoa cot 'Year_Birth' neu ton tai\n",
    "if 'Year_Birth' in marketing_data.columns:\n",
    "    marketing_data = marketing_data.drop(columns=['Year_Birth'])\n",
    "    print(\"Da xoa cot 'Year_Birth'.\")\n",
    "else:\n",
    "    print(\"Cot 'Year_Birth' khong ton tai, bo qua buoc nay.\")\n",
    "\n",
    "# 4. Hien thi du lieu sau khi lam sach\n",
    "print(\"\\nDu lieu sau khi lam sach:\")\n",
    "print(marketing_data.head())\n",
    "\n",
    "# 5. Kiem tra lai thong tin cac cot\n",
    "print(\"\\nCac cot con lai trong dataset:\")\n",
    "print(marketing_data.columns.tolist())\n",
    "\n"
   ]
  },
  {
   "cell_type": "markdown",
   "id": "ef19f011-d3e6-4ead-9675-a74ccf3e9675",
   "metadata": {},
   "source": [
    "# 3. Thay thế dữ liệu và thay đổi định dạng của dữ liệu\n"
   ]
  },
  {
   "cell_type": "code",
   "execution_count": 14,
   "id": "04097588-19ff-4786-9fda-47a37159c0cd",
   "metadata": {},
   "outputs": [
    {
     "name": "stdout",
     "output_type": "stream",
     "text": [
      "Danh sách các cột:\n",
      "['ID', 'Year_Birth', 'Education', 'Marital_Status', 'Income', 'Kidhome', 'Teenhome', 'Dt_Customer', 'Recency', 'MntWines', 'MntFruits', 'MntMeatProducts', 'MntFishProducts', 'MntSweetProducts', 'MntGoldProds', 'NumDealsPurchases', 'NumWebPurchases', 'NumCatalogPurchases', 'NumStorePurchases', 'NumWebVisitsMonth', 'AcceptedCmp3', 'AcceptedCmp4', 'AcceptedCmp5', 'AcceptedCmp1', 'AcceptedCmp2', 'Complain', 'Z_CostContact', 'Z_Revenue', 'Response']\n"
     ]
    }
   ],
   "source": [
    "# 1. Import thư viện\n",
    "import pandas as pd\n",
    "\n",
    "# 2. Đọc dữ liệu từ file CSV (file nằm cùng thư mục với notebook)\n",
    "marketing_data = pd.read_csv(\"marketing_campaign.csv\", sep='\\t')\n",
    "\n",
    "# 3. Kiểm tra tên các cột\n",
    "print(\"Danh sách các cột:\")\n",
    "print(marketing_data.columns.tolist())\n",
    "\n",
    "# 4. Giữ lại các cột cần thiết\n",
    "cols_to_keep = [\n",
    "    'ID', 'Year_Birth', 'Education', 'Marital_Status',\n",
    "    'Income', 'Kidhome', 'Teenhome', 'Dt_Customer',\n",
    "    'Recency', 'NumStorePurchases', 'NumWebVisitsMonth'\n",
    "]\n",
    "marketing_data = marketing_data[cols_to_keep]\n",
    "\n",
    "# 5. Thay thế giá trị trong cột Teenhome\n",
    "marketing_data['Teenhome_replaced'] = marketing_data['Teenhome'].replace(\n",
    "    [0, 1, 2],\n",
    "    ['has no teen', 'has teen', 'has teen']\n",
    ")\n",
    "\n",
    "# 6. Điền giá trị thiếu trong cột Income bằng 0\n",
    "marketing_data['Income'] = marketing_data['Income'].fillna(0)\n",
    "\n"
   ]
  },
  {
   "cell_type": "code",
   "execution_count": 13,
   "id": "0faa6d44-f459-4044-957c-f741446bec2a",
   "metadata": {},
   "outputs": [
    {
     "name": "stdout",
     "output_type": "stream",
     "text": [
      "['ID', 'Year_Birth', 'Education', 'Marital_Status', 'Income', 'Kidhome', 'Teenhome', 'Dt_Customer', 'Recency', 'NumStorePurchases', 'NumWebVisitsMonth', 'Teenhome_replaced']\n"
     ]
    }
   ],
   "source": [
    "print(marketing_data.columns.tolist())\n"
   ]
  },
  {
   "cell_type": "markdown",
   "id": "ec3c6422-6b0f-47af-b9f2-76a92f6140d1",
   "metadata": {},
   "source": [
    "# 4. Xử lý dữ liệu thiếu"
   ]
  },
  {
   "cell_type": "code",
   "execution_count": 15,
   "id": "e3be83ee-9a0d-4627-bbaf-8d5e6adf2f31",
   "metadata": {},
   "outputs": [
    {
     "data": {
      "text/plain": [
       "(2240, 12)"
      ]
     },
     "execution_count": 15,
     "metadata": {},
     "output_type": "execute_result"
    }
   ],
   "source": [
    "# Check for missing values using the isnull and sum methods\n",
    "marketing_data.isnull().sum()\n",
    "# Drop missing values using the dropna method\n",
    "marketing_data_withoutna = marketing_data.dropna(how = 'any')\n",
    "marketing_data_withoutna.shape"
   ]
  },
  {
   "cell_type": "code",
   "execution_count": null,
   "id": "c40a254e-d88e-4d2c-93d1-28752e6a4d43",
   "metadata": {},
   "outputs": [],
   "source": []
  }
 ],
 "metadata": {
  "kernelspec": {
   "display_name": "Python 3 (ipykernel)",
   "language": "python",
   "name": "python3"
  },
  "language_info": {
   "codemirror_mode": {
    "name": "ipython",
    "version": 3
   },
   "file_extension": ".py",
   "mimetype": "text/x-python",
   "name": "python",
   "nbconvert_exporter": "python",
   "pygments_lexer": "ipython3",
   "version": "3.12.1"
  }
 },
 "nbformat": 4,
 "nbformat_minor": 5
}
